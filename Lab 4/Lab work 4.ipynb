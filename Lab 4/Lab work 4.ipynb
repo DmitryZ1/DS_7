{
 "cells": [
  {
   "cell_type": "markdown",
   "metadata": {},
   "source": [
    "___\n",
    "\n",
    "<a href='https://mainacademy.ua/'> <img src='https://mainacademy.ua/wp-content/uploads/2019/03/logo-main.png' alt = 'Хмм, щось з інтернетом'/></a>\n",
    "___\n",
    "\n",
    "# Module 4: Work with data professionally!"
   ]
  },
  {
   "cell_type": "markdown",
   "metadata": {},
   "source": [
    "## Lab work 4\n",
    "\n"
   ]
  },
  {
   "cell_type": "markdown",
   "metadata": {},
   "source": [
    "#### Мета: \n",
    "\n",
    "* навчитися обробляти дані\n",
    "* \"парсити\" сайти"
   ]
  },
  {
   "cell_type": "markdown",
   "metadata": {},
   "source": [
    "### Завдання 1:"
   ]
  },
  {
   "cell_type": "markdown",
   "metadata": {},
   "source": [
    "#### Ознайомитися із API Національного банку \n",
    "https://old.bank.gov.ua/control/uk/publish/article?art_id=38441973&cat_id=38459171#exchange\n",
    "\n"
   ]
  },
  {
   "cell_type": "markdown",
   "metadata": {},
   "source": [
    "1. Підключитися до API.\n"
   ]
  },
  {
   "cell_type": "code",
   "execution_count": 1,
   "metadata": {},
   "outputs": [
    {
     "name": "stdout",
     "output_type": "stream",
     "text": [
      "Requirement already satisfied: requests in c:\\users\\pc\\anaconda3\\lib\\site-packages (2.25.1)\n",
      "Requirement already satisfied: idna<3,>=2.5 in c:\\users\\pc\\anaconda3\\lib\\site-packages (from requests) (2.10)\n",
      "Requirement already satisfied: chardet<5,>=3.0.2 in c:\\users\\pc\\anaconda3\\lib\\site-packages (from requests) (4.0.0)\n",
      "Requirement already satisfied: urllib3<1.27,>=1.21.1 in c:\\users\\pc\\anaconda3\\lib\\site-packages (from requests) (1.26.4)\n",
      "Requirement already satisfied: certifi>=2017.4.17 in c:\\users\\pc\\anaconda3\\lib\\site-packages (from requests) (2020.12.5)\n"
     ]
    }
   ],
   "source": [
    "!pip install requests"
   ]
  },
  {
   "cell_type": "code",
   "execution_count": 2,
   "metadata": {},
   "outputs": [],
   "source": [
    "import requests"
   ]
  },
  {
   "cell_type": "code",
   "execution_count": 3,
   "metadata": {},
   "outputs": [
    {
     "name": "stdout",
     "output_type": "stream",
     "text": [
      "Підключення вдале <Response [200]>\n"
     ]
    }
   ],
   "source": [
    "r = requests.get('https://bank.gov.ua/NBUStatService/v1/statdirectory/exchange?valcode=USD&date=20210815&json')\n",
    "print('Підключення вдале', r)"
   ]
  },
  {
   "cell_type": "markdown",
   "metadata": {},
   "source": [
    "2. Отримати курс долара за останній рік."
   ]
  },
  {
   "cell_type": "code",
   "execution_count": 4,
   "metadata": {},
   "outputs": [],
   "source": [
    "import datetime\n",
    "\n",
    "import requests\n",
    "\n",
    "\n",
    "def currency_data(start_date, end_date):\n",
    "    data_base = {}\n",
    "    day = start_date\n",
    "\n",
    "    while day != end_date:\n",
    "        exchange_url = 'https://bank.gov.ua/NBUStatService/v1/statdirectory/exchange?date='+day.strftime('%Y%m%d')+'&json?'\n",
    "        r = requests.get(exchange_url)\n",
    "        if r.status_code == 200:\n",
    "            data = r.json()\n",
    "            for currency in data:\n",
    "                if currency[\"cc\"] == \"USD\":\n",
    "                    curr = currency[\"txt\"]\n",
    "                    rate = currency[\"rate\"]\n",
    "                    date = currency[\"exchangedate\"]\n",
    "                    data_base[day] = rate\n",
    "\n",
    "        day = day + datetime.timedelta(days=1)\n",
    "    \n",
    "    return data_base\n",
    "\n",
    "start_day = datetime.date(year = 2021, month = 1, day = 1)"
   ]
  },
  {
   "cell_type": "markdown",
   "metadata": {},
   "source": [
    "3. Вивести середнє значення та відхилення курсу за кожний місяць."
   ]
  },
  {
   "cell_type": "code",
   "execution_count": 5,
   "metadata": {},
   "outputs": [],
   "source": [
    "m_list = []\n",
    "for i in range (8):\n",
    "    start_date = datetime.date(year = 2021, month = i+1, day = 1)\n",
    "    end_date = datetime.date(year = 2021, month = i+2, day = 1)\n",
    "    \n",
    "    m_list.append(currency_data(start_date, end_date))"
   ]
  },
  {
   "cell_type": "code",
   "execution_count": 6,
   "metadata": {},
   "outputs": [
    {
     "name": "stdout",
     "output_type": "stream",
     "text": [
      "Середнє значення за кожний місяць:  {'month 1': 28.219770967741937, 'month 2': 27.88466071428571, 'month 3': 27.79555806451613, 'month 4': 27.930006666666667, 'month 5': 27.602848387096767, 'month 6': 27.23987333333332, 'month 7': 27.214548387096777, 'month 8': 26.768063999999995}\n",
      "Відхилення курсу за кожний місяць:  {'month 1': 0.12115058663084945, 'month 2': 0.10439519125243586, 'month 3': 0.113636249822287, 'month 4': 0.08930549790217604, 'month 5': 0.11849255828264615, 'month 6': 0.1534613869639165, 'month 7': 0.15329376367376968, 'month 8': 0.10304657541131546}\n"
     ]
    }
   ],
   "source": [
    "import math\n",
    "\n",
    "m_str_dev = {}\n",
    "m_mean = {}\n",
    "i = 1\n",
    "\n",
    "for month in m_list:\n",
    "    m_mean[f'month {i}'] = sum(month.values())/len(month.values())\n",
    "    m_str_dev[f'month {i}'] = math.sqrt(sum(list(map(lambda x:\n",
    "                             (x - m_mean[f'month {i}'])**2, month.values())))/len(month.values()))\n",
    "    i +=1\n",
    "    \n",
    "print(\"Середнє значення за кожний місяць: \", m_mean)\n",
    "print(\"Відхилення курсу за кожний місяць: \", m_str_dev)"
   ]
  },
  {
   "cell_type": "markdown",
   "metadata": {},
   "source": [
    "4. Дану інформацію записати у файл за допомогою pickle."
   ]
  },
  {
   "cell_type": "code",
   "execution_count": 7,
   "metadata": {},
   "outputs": [],
   "source": [
    "import pickle\n",
    "\n",
    "\n",
    "f = open('curr_d.pickle', 'wb')\n",
    "\n",
    "data = {\"Mean values per month\":m_mean, \"Standard_deviation per month\" : m_str_dev}\n",
    "\n",
    "pickle.dump(data, f)\n",
    "\n",
    "f.close()"
   ]
  },
  {
   "cell_type": "markdown",
   "metadata": {},
   "source": [
    "### Завдання 2:"
   ]
  },
  {
   "cell_type": "markdown",
   "metadata": {},
   "source": [
    "Потрібно проаналізувати всі товари на сайті: \n",
    "https://smallpacking.agrosem.ua/shop/"
   ]
  },
  {
   "cell_type": "markdown",
   "metadata": {},
   "source": [
    "Створіть базу даних, що містить таблицю із такими стовбцями: \n",
    "    - артикул товару\n",
    "    - найменування\n",
    "    - ціна \n",
    "    - вага"
   ]
  },
  {
   "cell_type": "code",
   "execution_count": 8,
   "metadata": {},
   "outputs": [],
   "source": [
    "import sqlite3\n",
    "\n",
    "db_conn = sqlite3.connect('agrosem_prod.db')\n",
    "\n",
    "sql_text = \"\"\"\n",
    "            CREATE TABLE Product (\n",
    "                Артикул товару TEXT,\n",
    "                Найменування TEXT,\n",
    "                Ціна TEXT,\n",
    "                Пакування TEXT)  \"\"\"\n",
    "\n",
    "curs = db_conn.cursor()\n",
    "\n",
    "curs.executescript(sql_text)\n",
    "\n",
    "db_conn.close()"
   ]
  },
  {
   "cell_type": "code",
   "execution_count": 9,
   "metadata": {},
   "outputs": [],
   "source": [
    "from bs4 import BeautifulSoup\n",
    "\n",
    "conn = sqlite3.connect('agrosem_prod.db')\n",
    "\n",
    "for page in range(8):\n",
    "    url = 'https://smallpacking.agrosem.ua/shop/page'+str(page+1)+'/'\n",
    "    r = requests.get(url)\n",
    "    s = BeautifulSoup(r.text, 'lxml')\n",
    "    prod_cont = s.find_all(\"div\", class_ = \"product-from-category-container\")\n",
    "\n",
    "    for s in prod_cont:\n",
    "        r = requests.get(s.find('a').get(\"href\"))\n",
    "        s = BeautifulSoup(r.text, 'lxml')\n",
    "        descr = s.find('div', class_='atributes-description')\n",
    "        prod_name = descr.find('h2').text\n",
    "        pack_type = descr.find('span', class_='type-packaging-name').text\n",
    "        sku = descr.find('span', class_='sku').text[4:]\n",
    "        price = descr.find('span', class_='regular-price').text\n",
    "\n",
    "        text = f\"('{sku}', '{prod_name}', '{price}', '{pack_type}')\"\n",
    "        sql_text = f\"\"\"INSERT INTO Product VALUES {text}\"\"\"\n",
    "\n",
    "        curs = conn.cursor()\n",
    "        curs.execute(sql_text)\n",
    "        conn.commit()\n",
    "\n",
    "\n",
    "conn.close()"
   ]
  },
  {
   "cell_type": "markdown",
   "metadata": {},
   "source": [
    "### Завдання 3: "
   ]
  },
  {
   "cell_type": "markdown",
   "metadata": {},
   "source": [
    "Ознайомтеся із роботою SQLite та відповідним модулем у Python.\n",
    "Завантажте базу даних для виконання лабораторної роботи.\n",
    "Підключіться до завантаженої бази SQLite."
   ]
  },
  {
   "cell_type": "markdown",
   "metadata": {},
   "source": [
    "1. Виведіть інформацію про дану базу."
   ]
  },
  {
   "cell_type": "code",
   "execution_count": 10,
   "metadata": {},
   "outputs": [
    {
     "name": "stdout",
     "output_type": "stream",
     "text": [
      "Версія БД 3.35.4\n"
     ]
    }
   ],
   "source": [
    "import sqlite3\n",
    "\n",
    "conn = sqlite3.connect('tysql.sqlite')\n",
    "curs = conn.cursor()\n",
    "\n",
    "print(\"Версія БД\", sqlite3.sqlite_version)"
   ]
  },
  {
   "cell_type": "markdown",
   "metadata": {},
   "source": [
    "2. Виведіть перелік всіх таблиць."
   ]
  },
  {
   "cell_type": "code",
   "execution_count": 11,
   "metadata": {},
   "outputs": [
    {
     "name": "stdout",
     "output_type": "stream",
     "text": [
      "[('Customers',), ('OrderItems',), ('Orders',), ('Products',), ('Vendors',)]\n"
     ]
    }
   ],
   "source": [
    "conn = sqlite3.connect('tysql.sqlite')\n",
    "curs = conn.cursor()\n",
    "\n",
    "curs.execute('SELECT name from sqlite_master where type= \"table\"')\n",
    "\n",
    "print(curs.fetchall())"
   ]
  },
  {
   "cell_type": "markdown",
   "metadata": {},
   "source": [
    "3. Список всіх cust_id з таблиці Customers table."
   ]
  },
  {
   "cell_type": "code",
   "execution_count": 12,
   "metadata": {},
   "outputs": [
    {
     "name": "stdout",
     "output_type": "stream",
     "text": [
      "[('1000000001',), ('1000000002',), ('1000000003',), ('1000000004',), ('1000000005',)]\n"
     ]
    }
   ],
   "source": [
    "conn = sqlite3.connect('tysql.sqlite')\n",
    "curs = conn.cursor()\n",
    "\n",
    "curs.execute('SELECT cust_id from Customers')\n",
    "rows = curs.fetchall()\n",
    "print(rows)"
   ]
  },
  {
   "cell_type": "markdown",
   "metadata": {},
   "source": [
    "4. Всю таблицю Customers table"
   ]
  },
  {
   "cell_type": "code",
   "execution_count": 13,
   "metadata": {},
   "outputs": [
    {
     "name": "stdout",
     "output_type": "stream",
     "text": [
      "[('1000000001', 'Village Toys', '200 Maple Lane', 'Detroit', 'MI', '44444', 'USA', 'John Smith', 'sales@villagetoys.com'), ('1000000002', 'Kids Place', '333 South Lake Drive', 'Columbus', 'OH', '43333', 'USA', 'Michelle Green', None), ('1000000003', 'Fun4All', '1 Sunny Place', 'Muncie', 'IN', '42222', 'USA', 'Jim Jones', 'jjones@fun4all.com'), ('1000000004', 'Fun4All', '829 Riverside Drive', 'Phoenix', 'AZ', '88888', 'USA', 'Denise L. Stephens', 'dstephens@fun4all.com'), ('1000000005', 'The Toy Store', '4545 53rd Street', 'Chicago', 'IL', '54545', 'USA', 'Kim Howard', None)]\n"
     ]
    }
   ],
   "source": [
    "curs.execute('SELECT * from Customers')\n",
    "rows = curs.fetchall()\n",
    "print(rows)"
   ]
  },
  {
   "cell_type": "markdown",
   "metadata": {},
   "source": [
    "5. Список клієнтів (cust_names) відсортованих від Z до A"
   ]
  },
  {
   "cell_type": "code",
   "execution_count": 14,
   "metadata": {},
   "outputs": [
    {
     "name": "stdout",
     "output_type": "stream",
     "text": [
      "[('Village Toys',), ('The Toy Store',), ('Kids Place',), ('Fun4All',), ('Fun4All',)]\n"
     ]
    }
   ],
   "source": [
    "curs.execute('SELECT cust_name FROM Customers ORDER BY cust_name DESC')\n",
    "cust = curs.fetchall()\n",
    "print(cust)"
   ]
  },
  {
   "cell_type": "markdown",
   "metadata": {},
   "source": [
    "6. Таблицю клієнтів та замовлень (cust_id і order_num) . Відсортуйте по клієнту і потім по даті замовлення"
   ]
  },
  {
   "cell_type": "code",
   "execution_count": 15,
   "metadata": {},
   "outputs": [
    {
     "name": "stdout",
     "output_type": "stream",
     "text": [
      "[('1000000001', 20009), ('1000000001', 20005), ('1000000003', 20006), ('1000000004', 20007), ('1000000005', 20008)]\n"
     ]
    }
   ],
   "source": [
    "curs.execute('SELECT cust_id, order_num FROM Orders ORDER BY cust_id, order_date')\n",
    " \n",
    "row = curs.fetchall()\n",
    "print(row)"
   ]
  },
  {
   "cell_type": "markdown",
   "metadata": {},
   "source": [
    "7. Таблицю (на основі Items) з кількість та вартістю товару. Відсортуйте в порядку спадання по кількості та вартості"
   ]
  },
  {
   "cell_type": "code",
   "execution_count": 16,
   "metadata": {},
   "outputs": [
    {
     "name": "stdout",
     "output_type": "stream",
     "text": [
      "[('BNBG01', 250, 2.49), ('BNBG02', 250, 2.49), ('BNBG03', 250, 2.49), ('BR03', 100, 10.99), ('BR01', 100, 5.49), ('BNBG01', 100, 2.99), ('BNBG02', 100, 2.99), ('BNBG03', 100, 2.99), ('BR03', 50, 11.49), ('RGAN01', 50, 4.49), ('BR01', 20, 5.99), ('BR03', 10, 11.99), ('BR02', 10, 8.99), ('BNBG01', 10, 3.49), ('BNBG02', 10, 3.49), ('BNBG03', 10, 3.49), ('BR03', 5, 11.99), ('RGAN01', 5, 4.99)]\n"
     ]
    }
   ],
   "source": [
    "curs.execute('SELECT prod_id, quantity, item_price FROM OrderItems ORDER BY quantity DESC, item_price DESC')\n",
    "\n",
    "row = curs.fetchall()\n",
    "print(row)"
   ]
  },
  {
   "cell_type": "markdown",
   "metadata": {},
   "source": [
    "8. Товар (з таблиці Products), ціна якого становить 9.49"
   ]
  },
  {
   "cell_type": "code",
   "execution_count": 17,
   "metadata": {},
   "outputs": [
    {
     "name": "stdout",
     "output_type": "stream",
     "text": [
      "[('King doll', 'RYL01'), ('Queen doll', 'RYL02')]\n"
     ]
    }
   ],
   "source": [
    "curs.execute('SELECT prod_name, prod_id FROM Products WHERE prod_price = 9.49')\n",
    "\n",
    "row = curs.fetchall()\n",
    "print(row)"
   ]
  },
  {
   "cell_type": "markdown",
   "metadata": {},
   "source": [
    "9. Виведіть назву товару та ціну, яка лежить в діапазоні від  3 до 6. Відсортуйте результат в по ціні в порядку зростання"
   ]
  },
  {
   "cell_type": "code",
   "execution_count": 18,
   "metadata": {},
   "outputs": [
    {
     "name": "stdout",
     "output_type": "stream",
     "text": [
      "[('Fish bean bag toy', 3.49), ('Bird bean bag toy', 3.49), ('Rabbit bean bag toy', 3.49), ('Raggedy Ann', 4.99), ('8 inch teddy bear', 5.99)]\n"
     ]
    }
   ],
   "source": [
    "curs.execute('SELECT prod_name, prod_price FROM Products WHERE 3 <= prod_price and prod_price <=6 ORDER BY prod_price ASC')\n",
    "\n",
    "row = curs.fetchall()\n",
    "print(row)"
   ]
  },
  {
   "cell_type": "markdown",
   "metadata": {},
   "source": [
    "10. Кількість товару, що було продано"
   ]
  },
  {
   "cell_type": "code",
   "execution_count": 19,
   "metadata": {},
   "outputs": [
    {
     "name": "stdout",
     "output_type": "stream",
     "text": [
      "1430\n"
     ]
    }
   ],
   "source": [
    "curs.execute('SELECT quantity FROM OrderItems ')\n",
    "\n",
    "row = curs.fetchall()\n",
    "sum_q = 0\n",
    "for i in row:\n",
    "    sum_q += i[0]\n",
    "print(sum_q)"
   ]
  },
  {
   "cell_type": "markdown",
   "metadata": {},
   "source": [
    "11. Кількість найменувань товару, ціна якого більша за 4"
   ]
  },
  {
   "cell_type": "code",
   "execution_count": 20,
   "metadata": {},
   "outputs": [
    {
     "name": "stdout",
     "output_type": "stream",
     "text": [
      "6\n"
     ]
    }
   ],
   "source": [
    "curs.execute('SELECT prod_name FROM Products WHERE 4 <= prod_price')\n",
    "\n",
    "row = curs.fetchall()\n",
    "print(len(row))"
   ]
  },
  {
   "cell_type": "markdown",
   "metadata": {},
   "source": [
    "12. Розробіть алгоритм для виведення 3 найдорожчих товарів в базі"
   ]
  },
  {
   "cell_type": "code",
   "execution_count": 21,
   "metadata": {},
   "outputs": [
    {
     "name": "stdout",
     "output_type": "stream",
     "text": [
      "[('BR03', 'BRS01', '18 inch teddy bear', 11.99, '18 inch teddy bear, comes with cap and jacket'), ('RYL01', 'FNG01', 'King doll', 9.49, '12 inch king doll with royal garments and crown'), ('RYL02', 'FNG01', 'Queen doll', 9.49, '12 inch queen doll with royal garments and crown')]\n"
     ]
    }
   ],
   "source": [
    "curs.execute('SELECT * FROM Products ORDER BY prod_price DESC LIMIT 3')\n",
    "\n",
    "row = curs.fetchall()\n",
    "print(row)"
   ]
  },
  {
   "cell_type": "markdown",
   "metadata": {},
   "source": [
    "13. Підрахуйте кількість замовлень для кожного клієнта використовуючи підзапити"
   ]
  },
  {
   "cell_type": "code",
   "execution_count": 22,
   "metadata": {},
   "outputs": [
    {
     "name": "stdout",
     "output_type": "stream",
     "text": [
      "[('Village Toys', 2), ('Kids Place', 0), ('Fun4All', 1), ('Fun4All', 1), ('The Toy Store', 1)]\n"
     ]
    }
   ],
   "source": [
    "curs.execute('''SELECT cust_name, \n",
    "            (SELECT COUNT(order_num) FROM Orders WHERE Customers.cust_id = Orders.cust_id)\n",
    "             FROM Customers''')\n",
    "row = curs.fetchall()\n",
    "print(row)"
   ]
  },
  {
   "cell_type": "markdown",
   "metadata": {},
   "source": [
    "14. Виведіть список клієнтів та їх замовлення (використайте JOIN)"
   ]
  },
  {
   "cell_type": "code",
   "execution_count": 23,
   "metadata": {},
   "outputs": [
    {
     "name": "stdout",
     "output_type": "stream",
     "text": [
      "[('Village Toys', '8 inch teddy bear'), ('Village Toys', '18 inch teddy bear'), ('Fun4All', '8 inch teddy bear'), ('Fun4All', '12 inch teddy bear'), ('Fun4All', '18 inch teddy bear'), ('Fun4All', '18 inch teddy bear'), ('Fun4All', 'Fish bean bag toy'), ('Fun4All', 'Bird bean bag toy'), ('Fun4All', 'Rabbit bean bag toy'), ('Fun4All', 'Raggedy Ann'), ('The Toy Store', 'Raggedy Ann'), ('The Toy Store', '18 inch teddy bear'), ('The Toy Store', 'Fish bean bag toy'), ('The Toy Store', 'Bird bean bag toy'), ('The Toy Store', 'Rabbit bean bag toy'), ('Village Toys', 'Fish bean bag toy'), ('Village Toys', 'Bird bean bag toy'), ('Village Toys', 'Rabbit bean bag toy')]\n"
     ]
    }
   ],
   "source": [
    "curs.execute('''SELECT cust_name, prod_name \n",
    "             FROM Customers JOIN Orders\n",
    "              ON Customers.cust_id = Orders.cust_id\n",
    "              JOIN OrderItems\n",
    "              ON Orders.order_num = OrderItems.order_num\n",
    "              JOIN Products\n",
    "              ON OrderItems.prod_id = Products.prod_id''')\n",
    "\n",
    "row = curs.fetchall()\n",
    "print(row)"
   ]
  },
  {
   "cell_type": "markdown",
   "metadata": {},
   "source": [
    "15. Зробіть два запити: список товарів, ціна яких менша 5 та список товарів, ціна який більша рівна 5. Використайте UNION для об'єднання цих запитів"
   ]
  },
  {
   "cell_type": "code",
   "execution_count": 24,
   "metadata": {},
   "outputs": [
    {
     "name": "stdout",
     "output_type": "stream",
     "text": [
      "[('12 inch teddy bear',), ('18 inch teddy bear',), ('8 inch teddy bear',), ('Bird bean bag toy',), ('Fish bean bag toy',), ('King doll',), ('Queen doll',), ('Rabbit bean bag toy',), ('Raggedy Ann',)]\n"
     ]
    }
   ],
   "source": [
    "curs.execute('''SELECT prod_name FROM Products WHERE prod_price < 5\n",
    "             UNION\n",
    "                SELECT prod_name FROM Products WHERE prod_price >= 5 ''')\n",
    " \n",
    "row = curs.fetchall()\n",
    "print(row)\n",
    "conn.close()"
   ]
  },
  {
   "cell_type": "markdown",
   "metadata": {},
   "source": [
    "### Завдання 4: "
   ]
  },
  {
   "cell_type": "markdown",
   "metadata": {},
   "source": [
    "Зареєструйтеся на сайті  http://www.sql-ex.ru/\n",
    "\n",
    "Виконайте завдання із блоку SELECT; з 1 по 30 завдання\n",
    "\n",
    "Код запитів вставляйте сюди\n"
   ]
  },
  {
   "cell_type": "markdown",
   "metadata": {},
   "source": [
    "1. SELECT model, speed, hd FROM PC WHERE price < 500\n",
    "2. SELECT DISTINCT maker FROM Product WHERE type = 'Printer'\n",
    "3. SELECT model, ram, screen FROM Laptop WHERE price > 1000\n",
    "4. SELECT * FROM Printer WHERE color = 'y'\n",
    "5. SELECT DISTINCT model, speed, hd FROM PC WHERE  (cd = '12x' OR cd = '24x') AND price < 600\n",
    "6. SELECT DISTINCT maker, speed FROM Product JOIN Laptop ON Product.model = Laptop.model WHERE hd >= 10\n",
    "7. SELECT DISTINCT PC.model, price FROM PC JOIN Product ON Product.model = PC.model WHERE maker = 'B'\n",
    "   UNION\n",
    "   SELECT DISTINCT Laptop.model, price FROM Laptop JOIN Product ON Product.model = Laptop.model WHERE maker = 'B'\n",
    "   UNION\n",
    "   SELECT DISTINCT Printer.model, price FROM Printer JOIN Product ON Product.model = Printer.model WHERE maker = 'B'\n",
    "8. SELECT maker FROM Product WHERE type = 'PC'\n",
    "   EXCEPT\n",
    "   SELECT maker FROM Product WHERE type = 'Laptop'\n",
    "9. SELECT DISTINCT maker FROM Product JOIN PC ON Product.model = PC.model WHERE speed >= 450\n",
    "10. SELECT DISTINCT model, price FROM printer where price = (SELECT MAX(price) FROM printer)\n",
    "11. SELECT AVG(speed) FROM PC\n",
    "12. SELECT AVG(speed) FROM Laptop WHERE price > 1000\n",
    "13. SELECT avg(PC.speed) FROM PC JOIN Product ON PC.model = Product.model WHERE maker = 'A'\n",
    "14. SELECT Ships.class, Ships.name, Classes.country FROM Classes \n",
    "    JOIN Ships ON Classes.class = Ships.class WHERE numguns >= '10'\n",
    "15. SELECT hd FROM PC group by hd having count(model) >= 2\n",
    "16. SELECT DISTINCT A.model AS model, B.model AS model, A.speed As speed, A.ram As ram \n",
    "    FROM PC AS A, PC B WHERE A.speed = B.speed AND A.ram = B.ram AND A.model > B.model\n",
    "17. SELECT DISTINCT type, model, speed FROM Laptop, (SELECT type FROM Product) AS Prod(type) \n",
    "    WHERE speed < ALL (SELECT speed FROM PC) and type = 'laptop'\n",
    "18. Select distinct p.maker, pr.price from product p join printer pr on p.model = pr.model \n",
    "    WHERE pr.price = (SELECT MIN(price) FROM printer where color = 'y') and pr.color = 'y'\n",
    "19. Select p.maker, AVG(l.screen) from product p join laptop l on p.model = l.model group by p.maker\n",
    "20. Select maker, count(model) as Count_Model from product WHERE type = 'pc' group by maker having count(model) >= 3\n",
    "21. Select p.maker, max(pc.price) as max_price from product p join pc pc on p.model = pc.model group by maker\n",
    "22. Select speed, avg(price) from pc where speed > '600' group by speed\n",
    "23. Select p.maker from product p join pc pc on p.model = pc.model where pc.speed >= '750' \n",
    "    intersect \n",
    "    Select p.maker from product p join laptop l on p.model = l.model where l.speed >= '750'\n",
    "24. WITH all_model AS (SELECT model, price FROM pc \n",
    "    UNION \n",
    "    ALL SELECT model, price FROM printer \n",
    "    UNION \n",
    "    ALL SELECT model, price FROM laptop ) \n",
    "    SELECT distinct model FROM all_model WHERE price = ALL ( SELECT max(price) FROM all_model)\n",
    "25. SELECT distinct p.maker from product p join pc on p.model = pc.model \n",
    "    WHERE pc.ram = (select min(ram) from pc) and pc.speed = (SELECT MAX(speed) FROM pc WHERE ram = (SELECT MIN(ram) \n",
    "    FROM pc)) and p.maker in (SELECT maker FROM product WHERE type = 'printer')\n",
    "26. SELECT AVG(price) as Avg_price FROM (SELECT price FROM PC WHERE model IN (SELECT model FROM product WHERE maker='A' \n",
    "    AND type='PC') \n",
    "    UNION \n",
    "    ALL SELECT price FROM Laptop WHERE model IN (SELECT model FROM product WHERE maker='A' AND type='Laptop') ) AS prods\n",
    "27. SELECT p.maker, avg(pc.hd) from product p join pc pc on p.model = pc.model \n",
    "    WHERE pc.model IN (SELECT model FROM pc) AND maker IN (SELECT maker FROM product WHERE type='printer') group by maker\n",
    "28. SELECT count(maker) AS qty FROM (SELECT distinct maker FROM product GROUP BY maker having count(model) = 1) AS prod\n",
    "29. SELECT i.point, i.date, inc, out FROM income_o i LEFT JOIN outcome_o o on i.point = o.point AND i.date = o.date\n",
    "    UNION\n",
    "    SELECT o.point, o.date, inc, out FROM income_o i RIGHT JOIN outcome_o o ON i.point = o.point AND i.date = o.date\n",
    "30. SELECT point, date, SUM(sum_out), SUM(sum_inc) FROM( SELECT point, date, SUM(inc) as sum_inc, null as sum_out \n",
    "    FROM Income Group by point, date\n",
    "    UNION\n",
    "    SELECT point, date, null as sum_inc, SUM(out) as sum_out FROM Outcome Group by point, date ) as t\n",
    "    GROUP BY point, date ORDER BY point"
   ]
  }
 ],
 "metadata": {
  "kernelspec": {
   "display_name": "Python 3",
   "language": "python",
   "name": "python3"
  },
  "language_info": {
   "codemirror_mode": {
    "name": "ipython",
    "version": 3
   },
   "file_extension": ".py",
   "mimetype": "text/x-python",
   "name": "python",
   "nbconvert_exporter": "python",
   "pygments_lexer": "ipython3",
   "version": "3.8.8"
  }
 },
 "nbformat": 4,
 "nbformat_minor": 2
}
