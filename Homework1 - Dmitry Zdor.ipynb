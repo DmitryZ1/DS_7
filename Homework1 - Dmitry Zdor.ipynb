{
 "cells": [
  {
   "cell_type": "markdown",
   "id": "02fac925",
   "metadata": {},
   "source": [
    "# 1. Markdown cells"
   ]
  },
  {
   "cell_type": "markdown",
   "id": "59c7188c",
   "metadata": {},
   "source": [
    "* Hi! Its Main Academy?  \n",
    "* All HTML tabs are supported!\n",
    "* Моя сторінка на лінкедін [Лінкедін](https://www.linkedin.com/)"
   ]
  },
  {
   "cell_type": "markdown",
   "id": "60e58ca4",
   "metadata": {},
   "source": [
    "  "
   ]
  },
  {
   "cell_type": "markdown",
   "id": "a49c3add",
   "metadata": {},
   "source": [
    "# This is Heading1"
   ]
  },
  {
   "cell_type": "markdown",
   "id": "1ce91b4c",
   "metadata": {},
   "source": [
    "## This is Heading2"
   ]
  },
  {
   "cell_type": "markdown",
   "id": "8040dfef",
   "metadata": {},
   "source": [
    "some gray colored text:\n",
    ">This is where we can bring quotes and present them nicely\n",
    "\n",
    "And this is the paragraph about something very important. Even math:"
   ]
  },
  {
   "cell_type": "markdown",
   "id": "4cd725c1",
   "metadata": {},
   "source": [
    "$$y_{sub}=\\sqrt{(}x_{sub})$$"
   ]
  },
  {
   "cell_type": "markdown",
   "id": "d4078443",
   "metadata": {},
   "source": [
    "Or python code example:  \n",
    "\n",
    "    import math  \n",
    "    def foo():  \n",
    "        retorn \"foo\""
   ]
  },
  {
   "cell_type": "markdown",
   "id": "1724a70b",
   "metadata": {},
   "source": [
    "Here is the sample mean:"
   ]
  },
  {
   "cell_type": "markdown",
   "id": "7c31dafc",
   "metadata": {},
   "source": [
    "$$\\bar{y}=\\frac{1}{n}\\sum_{i=1}^{n}y_i$$"
   ]
  },
  {
   "cell_type": "markdown",
   "id": "c409c5f1",
   "metadata": {},
   "source": [
    "Here is the sample variance:"
   ]
  },
  {
   "cell_type": "markdown",
   "id": "6439f0a6",
   "metadata": {},
   "source": [
    "$$\\sigma^2=\\frac{\\sum\\limits_{i=1}^{n}(y_i-\\bar{y})^2}{n-1}$$"
   ]
  },
  {
   "cell_type": "markdown",
   "id": "33604ff2",
   "metadata": {},
   "source": [
    "Here is the sample standart deviation:"
   ]
  },
  {
   "cell_type": "markdown",
   "id": "6bbedd1f",
   "metadata": {},
   "source": [
    "$$\\sigma=\\sqrt{\\frac{\\sum\\limits_{i=1}^{n}(y_i-\\bar{y})^2}{n-1}}$$"
   ]
  }
 ],
 "metadata": {
  "kernelspec": {
   "display_name": "Python 3",
   "language": "python",
   "name": "python3"
  },
  "language_info": {
   "codemirror_mode": {
    "name": "ipython",
    "version": 3
   },
   "file_extension": ".py",
   "mimetype": "text/x-python",
   "name": "python",
   "nbconvert_exporter": "python",
   "pygments_lexer": "ipython3",
   "version": "3.8.8"
  }
 },
 "nbformat": 4,
 "nbformat_minor": 5
}
