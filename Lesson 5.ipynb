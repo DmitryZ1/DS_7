{
 "cells": [
  {
   "cell_type": "markdown",
   "id": "9dbf2bce",
   "metadata": {},
   "source": [
    "Користувач вводить дві букви. Визначити, на яких місцях алфавіту вони стоять, і скільки між ними знаходиться букв"
   ]
  },
  {
   "cell_type": "code",
   "execution_count": 1,
   "id": "a11a8fa6",
   "metadata": {},
   "outputs": [],
   "source": [
    "l1 = 'c'\n",
    "l2 = 'f'"
   ]
  },
  {
   "cell_type": "code",
   "execution_count": 2,
   "id": "c57d8e63",
   "metadata": {},
   "outputs": [
    {
     "data": {
      "text/plain": [
       "3"
      ]
     },
     "execution_count": 2,
     "metadata": {},
     "output_type": "execute_result"
    }
   ],
   "source": [
    "# Порядковий номер в алфавіті\n",
    "ord(l1) % ord('a') + 1"
   ]
  },
  {
   "cell_type": "code",
   "execution_count": 3,
   "id": "681f41c9",
   "metadata": {},
   "outputs": [
    {
     "data": {
      "text/plain": [
       "6"
      ]
     },
     "execution_count": 3,
     "metadata": {},
     "output_type": "execute_result"
    }
   ],
   "source": [
    "ord(l2) % ord('a') + 1"
   ]
  },
  {
   "cell_type": "code",
   "execution_count": 4,
   "id": "be6293da",
   "metadata": {},
   "outputs": [
    {
     "data": {
      "text/plain": [
       "2"
      ]
     },
     "execution_count": 4,
     "metadata": {},
     "output_type": "execute_result"
    }
   ],
   "source": [
    "# К-сть літер між введеними символами\n",
    "ord(l2) - ord(l1) - 1"
   ]
  },
  {
   "cell_type": "markdown",
   "id": "35691b0f",
   "metadata": {},
   "source": [
    "Задано деякий пароль Pass (str). Перевірити чи пароль \"сильний\" (пароль будемо вважати \"сильним\", якщо він складається з 8 символів (або більше) та містить символ @ або # ) Програма повертає True або False"
   ]
  },
  {
   "cell_type": "code",
   "execution_count": 5,
   "id": "adecff8a",
   "metadata": {},
   "outputs": [
    {
     "name": "stdout",
     "output_type": "stream",
     "text": [
      "Введіть пароль для перевірки:123456@\n"
     ]
    },
    {
     "data": {
      "text/plain": [
       "False"
      ]
     },
     "execution_count": 5,
     "metadata": {},
     "output_type": "execute_result"
    }
   ],
   "source": [
    "pas = input('Введіть пароль для перевірки:')\n",
    "\n",
    "(len(pas) >= 8) and ('@' in pas or '#' in pas)"
   ]
  },
  {
   "cell_type": "markdown",
   "id": "7a855dcd",
   "metadata": {},
   "source": [
    "### 3. Зрізи"
   ]
  },
  {
   "cell_type": "code",
   "execution_count": 6,
   "id": "a3bc8248",
   "metadata": {},
   "outputs": [],
   "source": [
    "s = 'abcdefgh'"
   ]
  },
  {
   "cell_type": "code",
   "execution_count": 7,
   "id": "c3a4da21",
   "metadata": {},
   "outputs": [
    {
     "data": {
      "text/plain": [
       "8"
      ]
     },
     "execution_count": 7,
     "metadata": {},
     "output_type": "execute_result"
    }
   ],
   "source": [
    "len(s)"
   ]
  },
  {
   "cell_type": "code",
   "execution_count": 8,
   "id": "81cfc953",
   "metadata": {},
   "outputs": [
    {
     "data": {
      "text/plain": [
       "'c'"
      ]
     },
     "execution_count": 8,
     "metadata": {},
     "output_type": "execute_result"
    }
   ],
   "source": [
    "# Спочатку виведіть третій символ цієї стрічки.\n",
    "s[2]"
   ]
  },
  {
   "cell_type": "code",
   "execution_count": 9,
   "id": "abfdbe37",
   "metadata": {},
   "outputs": [
    {
     "data": {
      "text/plain": [
       "'g'"
      ]
     },
     "execution_count": 9,
     "metadata": {},
     "output_type": "execute_result"
    }
   ],
   "source": [
    "# У другому рядку виведіть передостанній символ цієї стрічки\n",
    "s[len(s) - 2]"
   ]
  },
  {
   "cell_type": "code",
   "execution_count": 10,
   "id": "f4d1d8f1",
   "metadata": {},
   "outputs": [
    {
     "data": {
      "text/plain": [
       "'g'"
      ]
     },
     "execution_count": 10,
     "metadata": {},
     "output_type": "execute_result"
    }
   ],
   "source": [
    "s[-2]"
   ]
  },
  {
   "cell_type": "code",
   "execution_count": 11,
   "id": "ef4999cd",
   "metadata": {},
   "outputs": [
    {
     "data": {
      "text/plain": [
       "'abcde'"
      ]
     },
     "execution_count": 11,
     "metadata": {},
     "output_type": "execute_result"
    }
   ],
   "source": [
    "# У третьому рядку виведіть перші п'ять символів цієї стрічки.\n",
    "# s[start, stop, step]\n",
    "\n",
    "s[0:5]"
   ]
  },
  {
   "cell_type": "code",
   "execution_count": 12,
   "id": "5b393c82",
   "metadata": {},
   "outputs": [
    {
     "data": {
      "text/plain": [
       "'abcdef'"
      ]
     },
     "execution_count": 12,
     "metadata": {},
     "output_type": "execute_result"
    }
   ],
   "source": [
    "# У четвертому рядку виведіть всю стрічку, крім останніх двох символів\n",
    "s[ :-2]"
   ]
  },
  {
   "cell_type": "code",
   "execution_count": 13,
   "id": "be847d9f",
   "metadata": {},
   "outputs": [
    {
     "data": {
      "text/plain": [
       "'aceg'"
      ]
     },
     "execution_count": 13,
     "metadata": {},
     "output_type": "execute_result"
    }
   ],
   "source": [
    "# У п'ятому рядку виведіть всі символи з парними індексами \n",
    "# (вважаючи, що індексація починається з 0, тому символи виводяться починаючи з першого).\n",
    "\n",
    "s[::2]"
   ]
  },
  {
   "cell_type": "code",
   "execution_count": 14,
   "id": "5e40c1a1",
   "metadata": {},
   "outputs": [
    {
     "data": {
      "text/plain": [
       "'bdfh'"
      ]
     },
     "execution_count": 14,
     "metadata": {},
     "output_type": "execute_result"
    }
   ],
   "source": [
    "# У шостому рядку виведіть всі символи з непарними індексами, тобто починаючи з\n",
    "# другого символу стрічки.\n",
    "\n",
    "s[1::2]"
   ]
  },
  {
   "cell_type": "code",
   "execution_count": 15,
   "id": "029f4b87",
   "metadata": {},
   "outputs": [
    {
     "data": {
      "text/plain": [
       "'hgfedcba'"
      ]
     },
     "execution_count": 15,
     "metadata": {},
     "output_type": "execute_result"
    }
   ],
   "source": [
    "# У сьомому рядку виведіть всі символи в зворотному порядку\n",
    "s[::-1]"
   ]
  },
  {
   "cell_type": "code",
   "execution_count": 16,
   "id": "0109f441",
   "metadata": {},
   "outputs": [
    {
     "data": {
      "text/plain": [
       "'hfdb'"
      ]
     },
     "execution_count": 16,
     "metadata": {},
     "output_type": "execute_result"
    }
   ],
   "source": [
    "# У восьмому рядку виведіть всі символи стрічки через один в зворотному порядку,\n",
    "# починаючи з останнього.\n",
    "s[::-2]"
   ]
  },
  {
   "cell_type": "code",
   "execution_count": 17,
   "id": "ad05d36b",
   "metadata": {},
   "outputs": [
    {
     "data": {
      "text/plain": [
       "8"
      ]
     },
     "execution_count": 17,
     "metadata": {},
     "output_type": "execute_result"
    }
   ],
   "source": [
    "# У дев'ятому рядку виведіть довжину цього стрічки\n",
    "len(s)"
   ]
  },
  {
   "cell_type": "code",
   "execution_count": 18,
   "id": "374d0cfb",
   "metadata": {},
   "outputs": [
    {
     "data": {
      "text/plain": [
       "'abcdefghabcdefghabcdefgh'"
      ]
     },
     "execution_count": 18,
     "metadata": {},
     "output_type": "execute_result"
    }
   ],
   "source": [
    "s * 3"
   ]
  },
  {
   "cell_type": "code",
   "execution_count": 19,
   "id": "2d419787",
   "metadata": {},
   "outputs": [
    {
     "data": {
      "text/plain": [
       "'abcdefghASD'"
      ]
     },
     "execution_count": 19,
     "metadata": {},
     "output_type": "execute_result"
    }
   ],
   "source": [
    "s + \"ASD\""
   ]
  },
  {
   "cell_type": "code",
   "execution_count": 20,
   "id": "3b41e27d",
   "metadata": {},
   "outputs": [
    {
     "data": {
      "text/plain": [
       "-1"
      ]
     },
     "execution_count": 20,
     "metadata": {},
     "output_type": "execute_result"
    }
   ],
   "source": [
    "s.find('M')"
   ]
  },
  {
   "cell_type": "code",
   "execution_count": 21,
   "id": "7f70a7a1",
   "metadata": {},
   "outputs": [
    {
     "data": {
      "text/plain": [
       "'AAbcdefgh'"
      ]
     },
     "execution_count": 21,
     "metadata": {},
     "output_type": "execute_result"
    }
   ],
   "source": [
    "s.replace('a', 'AA')"
   ]
  },
  {
   "cell_type": "code",
   "execution_count": 22,
   "id": "8d814954",
   "metadata": {},
   "outputs": [
    {
     "data": {
      "text/plain": [
       "'ABCDEFGH'"
      ]
     },
     "execution_count": 22,
     "metadata": {},
     "output_type": "execute_result"
    }
   ],
   "source": [
    "s.upper()"
   ]
  },
  {
   "cell_type": "markdown",
   "id": "e8ba5b56",
   "metadata": {},
   "source": [
    "### Шифр Цезаря"
   ]
  },
  {
   "cell_type": "code",
   "execution_count": 23,
   "id": "5f5e4e08",
   "metadata": {},
   "outputs": [],
   "source": [
    "import string\n",
    "\n",
    "?string"
   ]
  },
  {
   "cell_type": "code",
   "execution_count": 24,
   "id": "c1c70b28",
   "metadata": {},
   "outputs": [
    {
     "data": {
      "text/plain": [
       "'abcdefghijklmnopqrstuvwxyz'"
      ]
     },
     "execution_count": 24,
     "metadata": {},
     "output_type": "execute_result"
    }
   ],
   "source": [
    "alp = string.ascii_lowercase  \n",
    "alp"
   ]
  },
  {
   "cell_type": "code",
   "execution_count": 27,
   "id": "32036615",
   "metadata": {},
   "outputs": [
    {
     "name": "stdout",
     "output_type": "stream",
     "text": [
      "Введіть слово для шифрування: hello\n",
      "Введіть ключ шифрування: 19\n"
     ]
    },
    {
     "ename": "IndexError",
     "evalue": "string index out of range",
     "output_type": "error",
     "traceback": [
      "\u001b[1;31m---------------------------------------------------------------------------\u001b[0m",
      "\u001b[1;31mIndexError\u001b[0m                                Traceback (most recent call last)",
      "\u001b[1;32m<ipython-input-27-55fb33aa5f14>\u001b[0m in \u001b[0;36m<module>\u001b[1;34m\u001b[0m\n\u001b[0;32m      7\u001b[0m     \u001b[0mindex_letter_in_alp\u001b[0m \u001b[1;33m=\u001b[0m \u001b[0malp\u001b[0m\u001b[1;33m.\u001b[0m\u001b[0mfind\u001b[0m\u001b[1;33m(\u001b[0m\u001b[0mletter\u001b[0m\u001b[1;33m)\u001b[0m\u001b[1;33m\u001b[0m\u001b[1;33m\u001b[0m\u001b[0m\n\u001b[0;32m      8\u001b[0m     \u001b[0mnew_index_in_alp\u001b[0m \u001b[1;33m=\u001b[0m \u001b[0mindex_letter_in_alp\u001b[0m \u001b[1;33m+\u001b[0m \u001b[0mk\u001b[0m \u001b[1;33m%\u001b[0m \u001b[1;36m27\u001b[0m\u001b[1;33m\u001b[0m\u001b[1;33m\u001b[0m\u001b[0m\n\u001b[1;32m----> 9\u001b[1;33m     \u001b[0mnew_word\u001b[0m \u001b[1;33m+=\u001b[0m \u001b[0malp\u001b[0m\u001b[1;33m[\u001b[0m\u001b[0mnew_index_in_alp\u001b[0m\u001b[1;33m]\u001b[0m\u001b[1;33m\u001b[0m\u001b[1;33m\u001b[0m\u001b[0m\n\u001b[0m\u001b[0;32m     10\u001b[0m \u001b[1;33m\u001b[0m\u001b[0m\n\u001b[0;32m     11\u001b[0m \u001b[0mprint\u001b[0m\u001b[1;33m(\u001b[0m\u001b[1;34mf'Зашифроване слово: {new_word}'\u001b[0m\u001b[1;33m)\u001b[0m\u001b[1;33m\u001b[0m\u001b[1;33m\u001b[0m\u001b[0m\n",
      "\u001b[1;31mIndexError\u001b[0m: string index out of range"
     ]
    }
   ],
   "source": [
    "word = input('Введіть слово для шифрування: ')\n",
    "k = int(input('Введіть ключ шифрування: '))\n",
    "\n",
    "new_word = ''\n",
    "\n",
    "for letter in word:\n",
    "    index_letter_in_alp = alp.find(letter)\n",
    "    new_index_in_alp = index_letter_in_alp + k % 27 \n",
    "    new_word += alp[new_index_in_alp]\n",
    " \n",
    "print(f'Зашифроване слово: {new_word}')"
   ]
  },
  {
   "cell_type": "code",
   "execution_count": 28,
   "id": "ca27c471",
   "metadata": {},
   "outputs": [
    {
     "data": {
      "text/plain": [
       "19"
      ]
     },
     "execution_count": 28,
     "metadata": {},
     "output_type": "execute_result"
    }
   ],
   "source": [
    "1234567 % 27"
   ]
  },
  {
   "cell_type": "code",
   "execution_count": 31,
   "id": "6aacdf0c",
   "metadata": {},
   "outputs": [
    {
     "name": "stdout",
     "output_type": "stream",
     "text": [
      "Введіть слово для дешифрування: ifmmp\n",
      "Введіть ключ дешифрування: 28\n",
      "Зашифроване слово: hello\n"
     ]
    }
   ],
   "source": [
    "\n",
    "word = input('Введіть слово для дешифрування: ')\n",
    "k = int(input('Введіть ключ дешифрування: '))\n",
    "\n",
    "new_word = ''\n",
    "\n",
    "for letter in word:\n",
    "    index_letter_in_alp = alp.find(letter)\n",
    "    new_index_in_alp = index_letter_in_alp - k % 27\n",
    "    new_word += alp[new_index_in_alp]\n",
    "    \n",
    "print(f'Зашифроване слово: {new_word}')"
   ]
  },
  {
   "cell_type": "code",
   "execution_count": 32,
   "id": "dc8ab630",
   "metadata": {},
   "outputs": [],
   "source": [
    "new_list = list(alp)"
   ]
  },
  {
   "cell_type": "code",
   "execution_count": 33,
   "id": "d26054bf",
   "metadata": {},
   "outputs": [
    {
     "name": "stdout",
     "output_type": "stream",
     "text": [
      "['a', 'b', 'c', 'd', 'e', 'f', 'g', 'h', 'i', 'j', 'k', 'l', 'm', 'n', 'o', 'p', 'q', 'r', 's', 't', 'u', 'v', 'w', 'x', 'y', 'z']\n"
     ]
    }
   ],
   "source": [
    "print(new_list)"
   ]
  },
  {
   "cell_type": "code",
   "execution_count": 34,
   "id": "a9561b6d",
   "metadata": {},
   "outputs": [
    {
     "data": {
      "text/plain": [
       "26"
      ]
     },
     "execution_count": 34,
     "metadata": {},
     "output_type": "execute_result"
    }
   ],
   "source": [
    "len(new_list)"
   ]
  },
  {
   "cell_type": "code",
   "execution_count": 35,
   "id": "8afc947e",
   "metadata": {},
   "outputs": [],
   "source": [
    "new_list[3] = 'D'"
   ]
  },
  {
   "cell_type": "code",
   "execution_count": 36,
   "id": "f4d6464f",
   "metadata": {},
   "outputs": [
    {
     "name": "stdout",
     "output_type": "stream",
     "text": [
      "['a', 'b', 'c', 'D', 'e', 'f', 'g', 'h', 'i', 'j', 'k', 'l', 'm', 'n', 'o', 'p', 'q', 'r', 's', 't', 'u', 'v', 'w', 'x', 'y', 'z']\n"
     ]
    }
   ],
   "source": [
    "print(new_list)"
   ]
  },
  {
   "cell_type": "code",
   "execution_count": 37,
   "id": "c8ca4c5c",
   "metadata": {},
   "outputs": [],
   "source": [
    "new_list[3] = 'd'"
   ]
  },
  {
   "cell_type": "code",
   "execution_count": 38,
   "id": "be809a3d",
   "metadata": {},
   "outputs": [],
   "source": [
    "new_list[3] = len"
   ]
  },
  {
   "cell_type": "code",
   "execution_count": 39,
   "id": "577597de",
   "metadata": {},
   "outputs": [
    {
     "name": "stdout",
     "output_type": "stream",
     "text": [
      "['a', 'b', 'c', <built-in function len>, 'e', 'f', 'g', 'h', 'i', 'j', 'k', 'l', 'm', 'n', 'o', 'p', 'q', 'r', 's', 't', 'u', 'v', 'w', 'x', 'y', 'z']\n"
     ]
    }
   ],
   "source": [
    "print(new_list)"
   ]
  },
  {
   "cell_type": "code",
   "execution_count": 40,
   "id": "47553904",
   "metadata": {},
   "outputs": [
    {
     "data": {
      "text/plain": [
       "26"
      ]
     },
     "execution_count": 40,
     "metadata": {},
     "output_type": "execute_result"
    }
   ],
   "source": [
    "new_list[3](new_list)"
   ]
  },
  {
   "cell_type": "code",
   "execution_count": 41,
   "id": "31576bf8",
   "metadata": {},
   "outputs": [
    {
     "name": "stdout",
     "output_type": "stream",
     "text": [
      "['a', 'b', 'c', <built-in function len>, 'e', 'f', 'g', 'h', 'i', 'j', 'k', 'l', 'm', 'n', 'o', 'p', 'q', 'r', 's', 't', 'u', 'v', 'w', 'x', 'y', 'z', 'ц']\n"
     ]
    }
   ],
   "source": [
    "new_list.append('ц')\n",
    "print(new_list)"
   ]
  },
  {
   "cell_type": "code",
   "execution_count": 42,
   "id": "43e2e14e",
   "metadata": {},
   "outputs": [
    {
     "name": "stdout",
     "output_type": "stream",
     "text": [
      "['a', 'b', 'c', <built-in function len>, 'e', 'f', 'g', 'h', 'i', 'j', 'k', 'l', 'm', 'n', 'o', 'p', 'q', 'r', 's', 't', 'u', 'v', 'w', 'x', 'y', 'z', 'ц', 'з', 'щ', 'ш', 'є']\n"
     ]
    }
   ],
   "source": [
    "new_list.extend('зщшє')\n",
    "print(new_list)"
   ]
  },
  {
   "cell_type": "code",
   "execution_count": 43,
   "id": "f208d8a8",
   "metadata": {},
   "outputs": [
    {
     "name": "stdout",
     "output_type": "stream",
     "text": [
      "['a', 'b', 'c', <built-in function len>, 'e', 'f', 'g', 'h', 'i', 'j', 'k', 'l', 'm', 'n', 'o', 'p', 'q', 'r', 's', 't', 'u', 'v', 'w', 'x', 'y', 'z', 'ц', 'з', 'щ', 'ш', 'є', 'їжь']\n"
     ]
    }
   ],
   "source": [
    "new_list.append('їжь')\n",
    "print(new_list)"
   ]
  },
  {
   "cell_type": "code",
   "execution_count": 44,
   "id": "18f17ed9",
   "metadata": {},
   "outputs": [
    {
     "data": {
      "text/plain": [
       "1"
      ]
     },
     "execution_count": 44,
     "metadata": {},
     "output_type": "execute_result"
    }
   ],
   "source": [
    "new_list.count('a')"
   ]
  },
  {
   "cell_type": "code",
   "execution_count": 45,
   "id": "1d43b793",
   "metadata": {},
   "outputs": [
    {
     "data": {
      "text/plain": [
       "'їжь'"
      ]
     },
     "execution_count": 45,
     "metadata": {},
     "output_type": "execute_result"
    }
   ],
   "source": [
    "new_list.pop()"
   ]
  },
  {
   "cell_type": "code",
   "execution_count": 46,
   "id": "6462ae4e",
   "metadata": {},
   "outputs": [
    {
     "name": "stdout",
     "output_type": "stream",
     "text": [
      "['a', 'b', 'c', <built-in function len>, 'e', 'f', 'g', 'h', 'i', 'j', 'k', 'l', 'm', 'n', 'o', 'p', 'q', 'r', 's', 't', 'u', 'v', 'w', 'x', 'y', 'z', 'ц', 'з', 'щ', 'ш', 'є']\n"
     ]
    }
   ],
   "source": [
    "print(new_list)"
   ]
  },
  {
   "cell_type": "code",
   "execution_count": 47,
   "id": "94cfc1f8",
   "metadata": {},
   "outputs": [],
   "source": [
    "new_list.reverse()"
   ]
  },
  {
   "cell_type": "code",
   "execution_count": 49,
   "id": "8d6f0bee",
   "metadata": {},
   "outputs": [
    {
     "name": "stdout",
     "output_type": "stream",
     "text": [
      "['є', 'ш', 'щ', 'з', 'ц', 'z', 'y', 'x', 'w', 'v', 'u', 't', 's', 'r', 'q', 'p', 'o', 'n', 'm', 'l', 'k', 'j', 'i', 'h', 'g', 'f', 'e', <built-in function len>, 'c', 'b', 'a']\n"
     ]
    }
   ],
   "source": [
    "print(new_list)"
   ]
  },
  {
   "cell_type": "code",
   "execution_count": 50,
   "id": "ba0ab462",
   "metadata": {},
   "outputs": [
    {
     "ename": "TypeError",
     "evalue": "'<' not supported between instances of 'builtin_function_or_method' and 'str'",
     "output_type": "error",
     "traceback": [
      "\u001b[1;31m---------------------------------------------------------------------------\u001b[0m",
      "\u001b[1;31mTypeError\u001b[0m                                 Traceback (most recent call last)",
      "\u001b[1;32m<ipython-input-50-fa91de0f3b3b>\u001b[0m in \u001b[0;36m<module>\u001b[1;34m\u001b[0m\n\u001b[1;32m----> 1\u001b[1;33m \u001b[0mnew_list\u001b[0m\u001b[1;33m.\u001b[0m\u001b[0msort\u001b[0m\u001b[1;33m(\u001b[0m\u001b[1;33m)\u001b[0m\u001b[1;33m\u001b[0m\u001b[1;33m\u001b[0m\u001b[0m\n\u001b[0m",
      "\u001b[1;31mTypeError\u001b[0m: '<' not supported between instances of 'builtin_function_or_method' and 'str'"
     ]
    }
   ],
   "source": [
    "new_list.sort()"
   ]
  },
  {
   "cell_type": "code",
   "execution_count": 51,
   "id": "4c0ae1e6",
   "metadata": {},
   "outputs": [
    {
     "data": {
      "text/plain": [
       "['01', '03', '10']"
      ]
     },
     "execution_count": 51,
     "metadata": {},
     "output_type": "execute_result"
    }
   ],
   "source": [
    "a = [\"03\", \"01\", \"10\"]\n",
    "a.sort()\n",
    "a"
   ]
  },
  {
   "cell_type": "code",
   "execution_count": 52,
   "id": "b0ca8d3f",
   "metadata": {},
   "outputs": [
    {
     "data": {
      "text/plain": [
       "['01', '03', '10']"
      ]
     },
     "execution_count": 52,
     "metadata": {},
     "output_type": "execute_result"
    }
   ],
   "source": [
    "sorted(a)"
   ]
  },
  {
   "cell_type": "code",
   "execution_count": 53,
   "id": "891a3a1c",
   "metadata": {},
   "outputs": [
    {
     "data": {
      "text/plain": [
       "['01', '03', '10']"
      ]
     },
     "execution_count": 53,
     "metadata": {},
     "output_type": "execute_result"
    }
   ],
   "source": [
    "a"
   ]
  },
  {
   "cell_type": "code",
   "execution_count": 54,
   "id": "fb0e7779",
   "metadata": {},
   "outputs": [
    {
     "data": {
      "text/plain": [
       "True"
      ]
     },
     "execution_count": 54,
     "metadata": {},
     "output_type": "execute_result"
    }
   ],
   "source": [
    "'a' in new_list"
   ]
  },
  {
   "cell_type": "code",
   "execution_count": 55,
   "id": "aed6209b",
   "metadata": {},
   "outputs": [
    {
     "name": "stdout",
     "output_type": "stream",
     "text": [
      "('e', 'f', 'g', 'h', 'i', 'j', 'k', 'l', 'm', 'n', 'o', 'p', 'q', 'r', 's', 't', 'u', 'v', 'w', 'x', 'y', 'z', 'з', 'ц', 'ш', 'щ', 'є', <built-in function len>, 'c', 'b', 'a')\n"
     ]
    }
   ],
   "source": [
    "new_tuple = tuple(new_list)\n",
    "print(new_tuple)"
   ]
  },
  {
   "cell_type": "code",
   "execution_count": 56,
   "id": "db8ba6f2",
   "metadata": {},
   "outputs": [
    {
     "ename": "TypeError",
     "evalue": "'tuple' object does not support item assignment",
     "output_type": "error",
     "traceback": [
      "\u001b[1;31m---------------------------------------------------------------------------\u001b[0m",
      "\u001b[1;31mTypeError\u001b[0m                                 Traceback (most recent call last)",
      "\u001b[1;32m<ipython-input-56-df59aa0d7403>\u001b[0m in \u001b[0;36m<module>\u001b[1;34m\u001b[0m\n\u001b[1;32m----> 1\u001b[1;33m \u001b[0mnew_tuple\u001b[0m\u001b[1;33m[\u001b[0m\u001b[1;36m3\u001b[0m\u001b[1;33m]\u001b[0m \u001b[1;33m=\u001b[0m \u001b[1;34m'd'\u001b[0m\u001b[1;33m\u001b[0m\u001b[1;33m\u001b[0m\u001b[0m\n\u001b[0m",
      "\u001b[1;31mTypeError\u001b[0m: 'tuple' object does not support item assignment"
     ]
    }
   ],
   "source": [
    "new_tuple[3] = 'd'"
   ]
  },
  {
   "cell_type": "code",
   "execution_count": 57,
   "id": "740ca0d6",
   "metadata": {},
   "outputs": [
    {
     "data": {
      "text/plain": [
       "('f', 'g')"
      ]
     },
     "execution_count": 57,
     "metadata": {},
     "output_type": "execute_result"
    }
   ],
   "source": [
    "new_tuple[1:3]"
   ]
  },
  {
   "cell_type": "code",
   "execution_count": 58,
   "id": "fcffd43d",
   "metadata": {},
   "outputs": [
    {
     "data": {
      "text/plain": [
       "31"
      ]
     },
     "execution_count": 58,
     "metadata": {},
     "output_type": "execute_result"
    }
   ],
   "source": [
    "len(new_tuple)"
   ]
  },
  {
   "cell_type": "code",
   "execution_count": 59,
   "id": "60829f66",
   "metadata": {},
   "outputs": [
    {
     "ename": "TypeError",
     "evalue": "'<' not supported between instances of 'builtin_function_or_method' and 'str'",
     "output_type": "error",
     "traceback": [
      "\u001b[1;31m---------------------------------------------------------------------------\u001b[0m",
      "\u001b[1;31mTypeError\u001b[0m                                 Traceback (most recent call last)",
      "\u001b[1;32m<ipython-input-59-7346a6415fdd>\u001b[0m in \u001b[0;36m<module>\u001b[1;34m\u001b[0m\n\u001b[1;32m----> 1\u001b[1;33m \u001b[0msorted\u001b[0m\u001b[1;33m(\u001b[0m\u001b[0mnew_tuple\u001b[0m\u001b[1;33m)\u001b[0m\u001b[1;33m\u001b[0m\u001b[1;33m\u001b[0m\u001b[0m\n\u001b[0m",
      "\u001b[1;31mTypeError\u001b[0m: '<' not supported between instances of 'builtin_function_or_method' and 'str'"
     ]
    }
   ],
   "source": [
    "sorted(new_tuple)"
   ]
  },
  {
   "cell_type": "code",
   "execution_count": 60,
   "id": "001ad865",
   "metadata": {},
   "outputs": [
    {
     "data": {
      "text/plain": [
       "2"
      ]
     },
     "execution_count": 60,
     "metadata": {},
     "output_type": "execute_result"
    }
   ],
   "source": [
    "a = (1, 3)\n",
    "len(a)"
   ]
  },
  {
   "cell_type": "code",
   "execution_count": 61,
   "id": "4a8c55bb",
   "metadata": {},
   "outputs": [
    {
     "data": {
      "text/plain": [
       "1"
      ]
     },
     "execution_count": 61,
     "metadata": {},
     "output_type": "execute_result"
    }
   ],
   "source": [
    "b = (3, )\n",
    "len(b)"
   ]
  },
  {
   "cell_type": "code",
   "execution_count": 62,
   "id": "571410e0",
   "metadata": {},
   "outputs": [],
   "source": [
    "parking = {'Place 1': 'Car 1 #4850',\n",
    "            'Place 2': 'Car 10 #1234',\n",
    "            'Place 3': 'Car 20 #6789',\n",
    "            'Place 4': 'Car 56 #3187'\n",
    "          }"
   ]
  },
  {
   "cell_type": "code",
   "execution_count": 63,
   "id": "daa7ac2e",
   "metadata": {},
   "outputs": [
    {
     "data": {
      "text/plain": [
       "{'Place 1': 'Car 1 #4850',\n",
       " 'Place 2': 'Car 10 #1234',\n",
       " 'Place 3': 'Car 20 #6789',\n",
       " 'Place 4': 'Car 56 #3187'}"
      ]
     },
     "execution_count": 63,
     "metadata": {},
     "output_type": "execute_result"
    }
   ],
   "source": [
    "parking"
   ]
  },
  {
   "cell_type": "code",
   "execution_count": 64,
   "id": "01af20ec",
   "metadata": {},
   "outputs": [],
   "source": [
    "parking['Place 3'] = 'Car 15 #1290'"
   ]
  },
  {
   "cell_type": "code",
   "execution_count": 65,
   "id": "30135dee",
   "metadata": {},
   "outputs": [
    {
     "data": {
      "text/plain": [
       "{'Place 1': 'Car 1 #4850',\n",
       " 'Place 2': 'Car 10 #1234',\n",
       " 'Place 3': 'Car 15 #1290',\n",
       " 'Place 4': 'Car 56 #3187'}"
      ]
     },
     "execution_count": 65,
     "metadata": {},
     "output_type": "execute_result"
    }
   ],
   "source": [
    "parking"
   ]
  },
  {
   "cell_type": "code",
   "execution_count": 66,
   "id": "da7f2b01",
   "metadata": {},
   "outputs": [
    {
     "data": {
      "text/plain": [
       "4"
      ]
     },
     "execution_count": 66,
     "metadata": {},
     "output_type": "execute_result"
    }
   ],
   "source": [
    "len(parking)"
   ]
  },
  {
   "cell_type": "code",
   "execution_count": 67,
   "id": "5bc85ac3",
   "metadata": {},
   "outputs": [
    {
     "data": {
      "text/plain": [
       "dict_values(['Car 1 #4850', 'Car 10 #1234', 'Car 15 #1290', 'Car 56 #3187'])"
      ]
     },
     "execution_count": 67,
     "metadata": {},
     "output_type": "execute_result"
    }
   ],
   "source": [
    "parking.values()"
   ]
  },
  {
   "cell_type": "code",
   "execution_count": 68,
   "id": "b00dcbf6",
   "metadata": {},
   "outputs": [
    {
     "data": {
      "text/plain": [
       "dict_keys(['Place 1', 'Place 2', 'Place 3', 'Place 4'])"
      ]
     },
     "execution_count": 68,
     "metadata": {},
     "output_type": "execute_result"
    }
   ],
   "source": [
    "parking.keys()"
   ]
  },
  {
   "cell_type": "code",
   "execution_count": 69,
   "id": "4c22de29",
   "metadata": {},
   "outputs": [
    {
     "data": {
      "text/plain": [
       "dict_items([('Place 1', 'Car 1 #4850'), ('Place 2', 'Car 10 #1234'), ('Place 3', 'Car 15 #1290'), ('Place 4', 'Car 56 #3187')])"
      ]
     },
     "execution_count": 69,
     "metadata": {},
     "output_type": "execute_result"
    }
   ],
   "source": [
    "parking.items()"
   ]
  },
  {
   "cell_type": "code",
   "execution_count": 70,
   "id": "f51a82b7",
   "metadata": {},
   "outputs": [
    {
     "data": {
      "text/plain": [
       "'Такого місця немає'"
      ]
     },
     "execution_count": 70,
     "metadata": {},
     "output_type": "execute_result"
    }
   ],
   "source": [
    "parking.get('Place 25', 'Такого місця немає')"
   ]
  },
  {
   "cell_type": "code",
   "execution_count": 71,
   "id": "a22b38ff",
   "metadata": {},
   "outputs": [
    {
     "ename": "KeyError",
     "evalue": "'Place 25'",
     "output_type": "error",
     "traceback": [
      "\u001b[1;31m---------------------------------------------------------------------------\u001b[0m",
      "\u001b[1;31mKeyError\u001b[0m                                  Traceback (most recent call last)",
      "\u001b[1;32m<ipython-input-71-ddc397a683de>\u001b[0m in \u001b[0;36m<module>\u001b[1;34m\u001b[0m\n\u001b[1;32m----> 1\u001b[1;33m \u001b[0mparking\u001b[0m\u001b[1;33m[\u001b[0m\u001b[1;34m'Place 25'\u001b[0m\u001b[1;33m]\u001b[0m\u001b[1;33m\u001b[0m\u001b[1;33m\u001b[0m\u001b[0m\n\u001b[0m",
      "\u001b[1;31mKeyError\u001b[0m: 'Place 25'"
     ]
    }
   ],
   "source": [
    "parking['Place 25']"
   ]
  },
  {
   "cell_type": "code",
   "execution_count": 72,
   "id": "153d059e",
   "metadata": {},
   "outputs": [
    {
     "data": {
      "text/plain": [
       "{1, 2, 3, 4, 5}"
      ]
     },
     "execution_count": 72,
     "metadata": {},
     "output_type": "execute_result"
    }
   ],
   "source": [
    "new_set = {1, 2, 3, 4, 4, 4, 5, 5}\n",
    "new_set"
   ]
  },
  {
   "cell_type": "code",
   "execution_count": 73,
   "id": "057b9df4",
   "metadata": {},
   "outputs": [],
   "source": [
    "python = {'Ihor', 'Катерина', 'Дмитро'}\n",
    "ds = {'Ihor', 'Катерина', 'Євген', 'Лідія', 'Анна' }"
   ]
  },
  {
   "cell_type": "code",
   "execution_count": 74,
   "id": "43c58cdd",
   "metadata": {},
   "outputs": [
    {
     "data": {
      "text/plain": [
       "{'Ihor', 'Катерина'}"
      ]
     },
     "execution_count": 74,
     "metadata": {},
     "output_type": "execute_result"
    }
   ],
   "source": [
    "\n",
    "python & ds"
   ]
  },
  {
   "cell_type": "code",
   "execution_count": 75,
   "id": "ba523748",
   "metadata": {},
   "outputs": [
    {
     "data": {
      "text/plain": [
       "{'Євген', 'Анна', 'Лідія'}"
      ]
     },
     "execution_count": 75,
     "metadata": {},
     "output_type": "execute_result"
    }
   ],
   "source": [
    "ds - python"
   ]
  },
  {
   "cell_type": "code",
   "execution_count": 76,
   "id": "89ae2c59",
   "metadata": {},
   "outputs": [
    {
     "data": {
      "text/plain": [
       "{'Ihor', 'Євген', 'Анна', 'Дмитро', 'Катерина', 'Лідія'}"
      ]
     },
     "execution_count": 76,
     "metadata": {},
     "output_type": "execute_result"
    }
   ],
   "source": [
    "python | ds"
   ]
  },
  {
   "cell_type": "code",
   "execution_count": null,
   "id": "4d884eb6",
   "metadata": {},
   "outputs": [],
   "source": []
  }
 ],
 "metadata": {
  "kernelspec": {
   "display_name": "Python 3",
   "language": "python",
   "name": "python3"
  },
  "language_info": {
   "codemirror_mode": {
    "name": "ipython",
    "version": 3
   },
   "file_extension": ".py",
   "mimetype": "text/x-python",
   "name": "python",
   "nbconvert_exporter": "python",
   "pygments_lexer": "ipython3",
   "version": "3.8.8"
  }
 },
 "nbformat": 4,
 "nbformat_minor": 5
}
